{
 "cells": [
  {
   "cell_type": "code",
   "execution_count": 1,
   "metadata": {},
   "outputs": [],
   "source": [
    "from operator import add\n",
    "import re\n",
    "from collections import OrderedDict\n",
    "from operator import itemgetter \n",
    "import itertools\n",
    "from pyspark.sql import SparkSession\n",
    "from pyspark.sql.functions import udf\n",
    "from pyspark.sql.types import StringType\n",
    "\n",
    "# (8 cores, 16gb per machine) x 5 = 40 cores\n",
    "\n",
    "# New API\n",
    "spark_session = SparkSession\\\n",
    "        .builder\\\n",
    "        .master(\"spark://192.168.1.153:7077\") \\\n",
    "        .appName(\"linneaeriksson_A2-partB\")\\\n",
    "        .config(\"spark.dynamicAllocation.enabled\", True)\\\n",
    "        .config(\"spark.shuffle.service.enabled\", True)\\\n",
    "        .config(\"spark.dynamicAllocation.executorIdleTimeout\",\"30s\")\\\n",
    "        .config(\"spark.executor.cores\",4)\\\n",
    "        .getOrCreate()\n",
    "\n",
    "# Old API (RDD)\n",
    "spark_context = spark_session.sparkContext\n",
    "spark_context.setLogLevel(\"DEBUG\")"
   ]
  },
  {
   "cell_type": "code",
   "execution_count": 2,
   "metadata": {},
   "outputs": [
    {
     "name": "stdout",
     "output_type": "stream",
     "text": [
      "+-------------+-------------------+----------+--------+-----------+--------------+-----------------+----+----+----------+-----+--------------------+-----+------+--------------+---------------------+-----------+---------+---------+\n",
      "|Ticket number|         Issue Date|Issue time|Meter Id|Marked Time|RP State Plate|Plate Expiry Date| VIN|Make|Body Style|Color|            Location|Route|Agency|Violation code|Violation Description|Fine amount| Latitude|Longitude|\n",
      "+-------------+-------------------+----------+--------+-----------+--------------+-----------------+----+----+----------+-----+--------------------+-----+------+--------------+---------------------+-----------+---------+---------+\n",
      "|   1103341116|2015-12-21T00:00:00|      1251|    null|       null|            CA|           200304|null|HOND|        PA|   GY|     13147 WELBY WAY|01521|     1|        4000A1|   NO EVIDENCE OF REG|         50|    99999|    99999|\n",
      "|   1103700150|2015-12-21T00:00:00|      1435|    null|       null|            CA|           201512|null| GMC|        VN|   WH|       525 S MAIN ST| 1C51|     1|        4000A1|   NO EVIDENCE OF REG|         50|    99999|    99999|\n",
      "|   1104803000|2015-12-21T00:00:00|      2055|    null|       null|            CA|           201503|null|NISS|        PA|   BK|       200 WORLD WAY|  2R2|     2|          8939|           WHITE CURB|         58|6439997.9|1802686.4|\n",
      "|   1104820732|2015-12-26T00:00:00|      1515|    null|       null|            CA|             null|null|ACUR|        PA|   WH|       100 WORLD WAY| 2F11|     2|           000|               17104h|       null|6440041.1|1802686.2|\n",
      "|   1105461453|2015-09-15T00:00:00|       115|    null|       null|            CA|           200316|null|CHEV|        PA|   BK|  GEORGIA ST/OLYMPIC|1FB70|     1|         8069A| NO STOPPING/STANDING|         93|    99999|    99999|\n",
      "|   1106226590|2015-09-15T00:00:00|        19|    null|       null|            CA|           201507|null|CHEV|        VN|   GY|  SAN PEDRO S/O BOYD|1A35W|     1|        4000A1|   NO EVIDENCE OF REG|         50|    99999|    99999|\n",
      "|   1106500452|2015-12-17T00:00:00|      1710|    null|       null|            CA|           201605|null|MAZD|        PA|   BL|     SUNSET/ALVARADO|00217|     1|          8070| PARK IN GRID LOCK ZN|        163|    99999|    99999|\n",
      "|   1106500463|2015-12-17T00:00:00|      1710|    null|       null|            CA|           201602|null|TOYO|        PA|   BK|     SUNSET/ALVARADO|00217|     1|          8070| PARK IN GRID LOCK ZN|        163|    99999|    99999|\n",
      "|   1106506402|2015-12-22T00:00:00|       945|    null|       null|            CA|           201605|null|CHEV|        PA|   BR|      721 S WESTLAKE| 2A75|     1|        8069AA|     NO STOP/STAND AM|         93|    99999|    99999|\n",
      "|   1106506413|2015-12-22T00:00:00|      1100|    null|       null|            CA|           201701|null|NISS|        PA|   SI|     1159 HUNTLEY DR| 2A75|     1|        8069AA|     NO STOP/STAND AM|         93|    99999|    99999|\n",
      "|   1106506424|2015-12-22T00:00:00|      1100|    null|       null|            CA|           201511|null|FORD|        TR|   WH|     1159 HUNTLEY DR| 2A75|     1|        8069AA|     NO STOP/STAND AM|         93|    99999|    99999|\n",
      "|   1106506435|2015-12-22T00:00:00|      1105|    null|       null|            CA|           201701|null|CHRY|        PA|   GO|     1159 HUNTLEY DR| 2A75|     1|        8069AA|     NO STOP/STAND AM|         93|    99999|    99999|\n",
      "|   1106506446|2015-12-22T00:00:00|      1110|    null|       null|            CA|           201511|null| BMW|        PA|   BK|      1200 W MIRAMAR| 2A75|     1|        4000A1|   NO EVIDENCE OF REG|         50|    99999|    99999|\n",
      "|   1106549754|2015-12-15T00:00:00|       825|    null|       null|            CA|           201607|null|PTRB|        TR|   BK|           4TH/STATE| CM96|     1|         8069A| NO STOPPING/STANDING|         93|    99999|    99999|\n",
      "|   1107179581|2015-12-27T00:00:00|      1055|    null|       null|            CA|           201605|null|TOYO|        PA|   BK|3100 N HOLLYRIDGE DR| null|    54|         8058L|         PREF PARKING|         68|    99999|    99999|\n",
      "|   1107179592|2015-12-27T00:00:00|      1200|    null|       null|            CA|           201602|null|MBNZ|        PA|   BK|   3115 N BERENDO DR| null|    54|         8058L|         PREF PARKING|         68|    99999|    99999|\n",
      "|   1107179603|2015-12-27T00:00:00|      1400|    null|       null|            CA|           201611|null|NISS|        PA|   WH| 3100 N BEACHWOOD DR| null|    54|         8058L|         PREF PARKING|         68|    99999|    99999|\n",
      "|   1107539823|2015-09-16T00:00:00|      2120|    null|       null|            CA|           201502|null|NISS|        PA| null|      BLAINE/11TH PL|1FB95|     1|        4000A1|   NO EVIDENCE OF REG|         50|    99999|    99999|\n",
      "|   1107539834|2015-09-16T00:00:00|      1045|    null|       null|            CA|             null|null|CHEV|        PA|   BK|  1246 S FIGUEROA ST| 1L20|     1|        8069AP|     NO STOP/STAND PM|         93|    99999|    99999|\n",
      "|   1107780811|2015-12-22T00:00:00|      1102|    null|       null|            CA|           201606|null|HOND|        PA|   BK|       PLATA/RAMPART|  2A1|     1|         8069B|           NO PARKING|         73|    99999|    99999|\n",
      "+-------------+-------------------+----------+--------+-----------+--------------+-----------------+----+----+----------+-----+--------------------+-----+------+--------------+---------------------+-----------+---------+---------+\n",
      "only showing top 20 rows\n",
      "\n"
     ]
    }
   ],
   "source": [
    "# part 1\n",
    "citations = spark_session.read\\\n",
    ".option(\"header\", \"true\")\\\n",
    ".csv(\"hdfs://192.168.1.153:9000/parking-citations.csv\")\\\n",
    ".cache()\n",
    "citations.show()"
   ]
  },
  {
   "cell_type": "code",
   "execution_count": 3,
   "metadata": {},
   "outputs": [
    {
     "name": "stdout",
     "output_type": "stream",
     "text": [
      "root\n",
      " |-- Ticket number: string (nullable = true)\n",
      " |-- Issue Date: string (nullable = true)\n",
      " |-- Issue time: string (nullable = true)\n",
      " |-- Meter Id: string (nullable = true)\n",
      " |-- Marked Time: string (nullable = true)\n",
      " |-- RP State Plate: string (nullable = true)\n",
      " |-- Plate Expiry Date: string (nullable = true)\n",
      " |-- VIN: string (nullable = true)\n",
      " |-- Make: string (nullable = true)\n",
      " |-- Body Style: string (nullable = true)\n",
      " |-- Color: string (nullable = true)\n",
      " |-- Location: string (nullable = true)\n",
      " |-- Route: string (nullable = true)\n",
      " |-- Agency: string (nullable = true)\n",
      " |-- Violation code: string (nullable = true)\n",
      " |-- Violation Description: string (nullable = true)\n",
      " |-- Fine amount: string (nullable = true)\n",
      " |-- Latitude: string (nullable = true)\n",
      " |-- Longitude: string (nullable = true)\n",
      "\n"
     ]
    }
   ],
   "source": [
    "# part 2\n",
    "citations.printSchema()"
   ]
  },
  {
   "cell_type": "code",
   "execution_count": 4,
   "metadata": {},
   "outputs": [
    {
     "name": "stdout",
     "output_type": "stream",
     "text": [
      "Total number of rows in CSV: 9257460\n"
     ]
    }
   ],
   "source": [
    "# part 3\n",
    "print(\"Total number of rows in CSV: \" + str(citations.count()))"
   ]
  },
  {
   "cell_type": "code",
   "execution_count": 5,
   "metadata": {},
   "outputs": [
    {
     "name": "stdout",
     "output_type": "stream",
     "text": [
      "Total number of partitions in RDD: 10\n"
     ]
    }
   ],
   "source": [
    "# part 4\n",
    "print(\"Total number of partitions in RDD: \" + str(citations.rdd.getNumPartitions()))"
   ]
  },
  {
   "cell_type": "code",
   "execution_count": 6,
   "metadata": {},
   "outputs": [
    {
     "name": "stdout",
     "output_type": "stream",
     "text": [
      "root\n",
      " |-- Ticket number: string (nullable = true)\n",
      " |-- Issue Date: string (nullable = true)\n",
      " |-- Issue time: string (nullable = true)\n",
      " |-- Meter Id: string (nullable = true)\n",
      " |-- Marked Time: string (nullable = true)\n",
      " |-- RP State Plate: string (nullable = true)\n",
      " |-- Plate Expiry Date: string (nullable = true)\n",
      " |-- Make: string (nullable = true)\n",
      " |-- Body Style: string (nullable = true)\n",
      " |-- Color: string (nullable = true)\n",
      " |-- Location: string (nullable = true)\n",
      " |-- Route: string (nullable = true)\n",
      " |-- Agency: string (nullable = true)\n",
      " |-- Violation code: string (nullable = true)\n",
      " |-- Violation Description: string (nullable = true)\n",
      " |-- Fine amount: string (nullable = true)\n",
      "\n"
     ]
    }
   ],
   "source": [
    "# part 5\n",
    "citations_dropped = citations.drop(\"VIN\", \"Latitude\", \"Longitude\")\n",
    "citations_dropped.printSchema()"
   ]
  },
  {
   "cell_type": "code",
   "execution_count": 7,
   "metadata": {},
   "outputs": [
    {
     "name": "stdout",
     "output_type": "stream",
     "text": [
      "+-----------------+---------------+\n",
      "|Fine_amount_float|Number_of_Fines|\n",
      "+-----------------+---------------+\n",
      "|            505.0|              6|\n",
      "|            363.0|          63366|\n",
      "|            353.0|             15|\n",
      "|            345.0|             40|\n",
      "|            330.0|              1|\n",
      "|            293.0|          10401|\n",
      "|            255.0|             30|\n",
      "|            163.0|         106748|\n",
      "|            155.0|              1|\n",
      "|            143.0|            373|\n",
      "|            133.0|           9185|\n",
      "|            128.0|            338|\n",
      "|            123.0|              3|\n",
      "|            113.0|              2|\n",
      "|            105.0|            729|\n",
      "|            103.0|           7401|\n",
      "|             98.0|            333|\n",
      "|             93.0|        1097437|\n",
      "|             88.0|            158|\n",
      "|             85.0|              5|\n",
      "+-----------------+---------------+\n",
      "only showing top 20 rows\n",
      "\n"
     ]
    }
   ],
   "source": [
    "# part 6\n",
    "citations_fine_amount_conv2float = citations_dropped.withColumn(\"Fine_amount_float\", citations_dropped['Fine amount'].cast(\"float\")).na.fill(0)\n",
    "citations_fine_view = citations_fine_amount_conv2float.createOrReplaceTempView(\"citations_fine\")\n",
    "\n",
    "spark_session.sql(\"SELECT Fine_amount_float, count(Fine_amount_float) as Number_of_Fines \" + \\\n",
    "                          \"FROM citations_fine \" + \\\n",
    "                          \"GROUP BY Fine_amount_float \" + \\\n",
    "                          \"ORDER BY Fine_amount_float DESC\").show()"
   ]
  },
  {
   "cell_type": "code",
   "execution_count": 8,
   "metadata": {},
   "outputs": [
    {
     "name": "stdout",
     "output_type": "stream",
     "text": [
      "+----+--------------+--------------------+\n",
      "|Make|Nr_of_Vehicles|                FREQ|\n",
      "+----+--------------+--------------------+\n",
      "|TOYT|       1531949| 0.16548264858827366|\n",
      "|HOND|       1043276| 0.11269570702979002|\n",
      "|FORD|        807498| 0.08722673389893124|\n",
      "|NISS|        662097|  0.0715203738390444|\n",
      "|CHEV|        631413| 0.06820585776228037|\n",
      "| BMW|        422916| 0.04568380527704143|\n",
      "|MERZ|        376830| 0.04070554990245705|\n",
      "|VOLK|        316002| 0.03413484908387398|\n",
      "|HYUN|        285286|0.030816876335409495|\n",
      "|DODG|        271590| 0.02933742084761911|\n",
      "|LEXS|        263269|0.028438578184512814|\n",
      "| KIA|        217795|0.023526431656199432|\n",
      "|JEEP|        214965|0.023220732252691344|\n",
      "|AUDI|        179718|   0.019413316395642|\n",
      "|MAZD|        169811|0.018343152441382408|\n",
      "|OTHR|        154376|0.016675848450870973|\n",
      "| GMC|        132788|0.014343891304958379|\n",
      "|INFI|        120340| 0.01299924601348534|\n",
      "|CHRY|        120317|0.012996761530700646|\n",
      "|ACUR|        111265|0.012018955523437314|\n",
      "+----+--------------+--------------------+\n",
      "only showing top 20 rows\n",
      "\n"
     ]
    }
   ],
   "source": [
    "# part 7\n",
    "spark_session.sql(\"SELECT Make, count(Make) AS Nr_of_Vehicles, count(Make)/(SELECT count(*) FROM citations_fine) as FREQ \" + \\\n",
    "                          \"FROM citations_fine \" + \\\n",
    "                          \"GROUP BY Make \" + \\\n",
    "                          \"ORDER BY FREQ DESC\").show()"
   ]
  },
  {
   "cell_type": "code",
   "execution_count": 10,
   "metadata": {},
   "outputs": [],
   "source": [
    "# part 8\n",
    "def expand_color_abbr(col):\n",
    "    COLORS = {\n",
    "'AL':'Aluminum', 'AM':'Amber', 'BG':'Beige', 'BK':'Black',\n",
    "'BL':'Blue', 'BN':'Brown', 'BR':'Brown', 'BZ':'Bronze',\n",
    "'CH':'Charcoal', 'DK':'Dark', 'GD':'Gold', 'GO':'Gold',\n",
    "'GN':'Green', 'GY':'Gray', 'GT':'Granite', 'IV':'Ivory',\n",
    "'LT':'Light', 'OL':'Olive', 'OR':'Orange', 'MR':'Maroon',\n",
    "'PK':'Pink', 'RD':'Red', 'RE':'Red', 'SI':'Silver', 'SL':'Silver',\n",
    "'SM':'Smoke', 'TN':'Tan', 'VT':'Violet', 'WT':'White',\n",
    "'WH':'White', 'YL':'Yellow', 'YE':'Yellow', 'UN':'Unknown'\n",
    "}\n",
    "    if col in COLORS:\n",
    "        return COLORS[col]\n",
    "    else:\n",
    "        return col\n",
    "\n",
    "udf_expand_color_abbr = udf(expand_color_abbr, StringType())\n",
    "color_long = citations_fine_amount_conv2float.withColumn(\"Color_Long\", udf_expand_color_abbr(\"Color\"))\n"
   ]
  },
  {
   "cell_type": "code",
   "execution_count": 11,
   "metadata": {},
   "outputs": [
    {
     "name": "stdout",
     "output_type": "stream",
     "text": [
      "+----------+-------------+\n",
      "|Color_Long|Nr_of_Toyotas|\n",
      "+----------+-------------+\n",
      "|      Gray|       346822|\n",
      "|     White|       304620|\n",
      "|     Black|       252199|\n",
      "|    Silver|       248685|\n",
      "|      Blue|       128051|\n",
      "|       Red|        84175|\n",
      "|     Green|        57627|\n",
      "|      Gold|        30154|\n",
      "|    Maroon|        19882|\n",
      "|       Tan|        17006|\n",
      "|     Beige|        11572|\n",
      "|        OT|        10805|\n",
      "|     Brown|         8466|\n",
      "|    Yellow|         3413|\n",
      "|        PR|         3010|\n",
      "|    Orange|         2527|\n",
      "|   Unknown|         1343|\n",
      "|        TU|         1077|\n",
      "|        CO|          423|\n",
      "|      Pink|           89|\n",
      "+----------+-------------+\n",
      "only showing top 20 rows\n",
      "\n"
     ]
    }
   ],
   "source": [
    "# part 9\n",
    "color_long_view = color_long.createOrReplaceTempView(\"citations_color\")\n",
    "toyota_color = spark_session.sql(\"SELECT Color_Long, count(Color_Long) AS Nr_of_Toyotas \" + \\\n",
    "                                  \"FROM citations_color \" + \\\n",
    "                                  \"WHERE Make='TOYT' \" + \\\n",
    "                                  \"GROUP BY Color_Long \" + \\\n",
    "                                  \"ORDER BY count(Color_Long) DESC\").show()"
   ]
  },
  {
   "cell_type": "code",
   "execution_count": 12,
   "metadata": {},
   "outputs": [],
   "source": [
    "spark_context.stop()"
   ]
  },
  {
   "cell_type": "code",
   "execution_count": null,
   "metadata": {},
   "outputs": [],
   "source": []
  }
 ],
 "metadata": {
  "kernelspec": {
   "display_name": "Python 3",
   "language": "python",
   "name": "python3"
  },
  "language_info": {
   "codemirror_mode": {
    "name": "ipython",
    "version": 3
   },
   "file_extension": ".py",
   "mimetype": "text/x-python",
   "name": "python",
   "nbconvert_exporter": "python",
   "pygments_lexer": "ipython3",
   "version": "3.6.7"
  }
 },
 "nbformat": 4,
 "nbformat_minor": 2
}
