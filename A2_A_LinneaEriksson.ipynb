{
 "cells": [
  {
   "cell_type": "code",
   "execution_count": 2,
   "metadata": {},
   "outputs": [],
   "source": [
    "from pyspark.sql import SparkSession\n",
    "\n",
    "# (8 cores, 16gb per machine) x 5 = 40 cores\n",
    "\n",
    "# New API\n",
    "spark_session = SparkSession\\\n",
    "        .builder\\\n",
    "        .master(\"spark://192.168.1.153:7077\") \\\n",
    "        .appName(\"linneaeriksson_A2.1\")\\\n",
    "        .config(\"spark.dynamicAllocation.enabled\", True)\\\n",
    "        .config(\"spark.shuffle.service.enabled\", True)\\\n",
    "        .config(\"spark.dynamicAllocation.executorIdleTimeout\",\"30s\")\\\n",
    "        .config(\"spark.executor.cores\",4)\\\n",
    "        .getOrCreate()\n",
    "\n",
    "# Old API (RDD)\n",
    "spark_context = spark_session.sparkContext"
   ]
  },
  {
   "cell_type": "code",
   "execution_count": 3,
   "metadata": {},
   "outputs": [
    {
     "name": "stdout",
     "output_type": "stream",
     "text": [
      "Number of lines for english:  1862234\n",
      "Number of partitions for english:  2\n",
      "['Resumption of the session', 'I declare resumed the session of the European Parliament adjourned on Friday 17 December 1999, and I would like once again to wish you a happy new year in the hope that you enjoyed a pleasant festive period.', \"Although, as you will have seen, the dreaded 'millennium bug' failed to materialise, still the people in a number of countries suffered a series of natural disasters that truly were dreadful.\", 'You have requested a debate on this subject in the course of the next few days, during this part-session.', \"In the meantime, I should like to observe a minute' s silence, as a number of Members have requested, on behalf of all the victims concerned, particularly those of the terrible storms, in the various countries of the European Union.\", \"Please rise, then, for this minute' s silence.\", \"(The House rose and observed a minute' s silence)\", 'Madam President, on a point of order.', 'You will be aware from the press and television that there have been a number of bomb explosions and killings in Sri Lanka.', 'One of the people assassinated very recently in Sri Lanka was Mr Kumar Ponnambalam, who had visited the European Parliament just a few months ago.']\n",
      "Number of lines for swedish:  1862234\n",
      "Number of partitions for swedish:  3\n",
      "['Återupptagande av sessionen', 'Jag förklarar Europaparlamentets session återupptagen efter avbrottet den 17 december. Jag vill på nytt önska er ett gott nytt år och jag hoppas att ni haft en trevlig semester.', 'Som ni kunnat konstatera ägde \"den stora år 2000-buggen\" aldrig rum. Däremot har invånarna i ett antal av våra medlemsländer drabbats av naturkatastrofer som verkligen varit förskräckliga.', 'Ni har begärt en debatt i ämnet under sammanträdesperiodens kommande dagar.', 'Till dess vill jag att vi, som ett antal kolleger begärt, håller en tyst minut för offren för bl.a. stormarna i de länder i Europeiska unionen som drabbats.', 'Jag ber er resa er för en tyst minut.', '(Parlamentet höll en tyst minut.)', 'Fru talman! Det gäller en ordningsfråga.', 'Ni känner till från media att det skett en rad bombexplosioner och mord i Sri Lanka.', 'En av de personer som mycket nyligen mördades i Sri Lanka var Kumar Ponnambalam, som besökte Europaparlamentet för bara några månader sedan.']\n"
     ]
    }
   ],
   "source": [
    "#part 1\n",
    "lines_eng = spark_context.textFile(\"hdfs://192.168.1.153:9000/europarl/europarl-v7.sv-en.en\")\n",
    "print(\"Number of lines for english: \",lines_eng.count())\n",
    "print(\"Number of partitions for english: \",lines_eng.getNumPartitions())\n",
    "print(lines_eng.take(10))\n",
    "                                                                   \n",
    "     \n",
    "lines_swe = spark_context.textFile(\"hdfs://192.168.1.153:9000/europarl/europarl-v7.sv-en.sv\")                                   \n",
    "print(\"Number of lines for swedish: \",lines_swe.count())\n",
    "print(\"Number of partitions for swedish: \",lines_swe.getNumPartitions())\n",
    "print(lines_swe.take(10))"
   ]
  },
  {
   "cell_type": "code",
   "execution_count": 4,
   "metadata": {},
   "outputs": [
    {
     "name": "stdout",
     "output_type": "stream",
     "text": [
      "[['resumption', 'of', 'the', 'session'], ['i', 'declare', 'resumed', 'the', 'session', 'of', 'the', 'european', 'parliament', 'adjourned', 'on', 'friday', '17', 'december', '1999,', 'and', 'i', 'would', 'like', 'once', 'again', 'to', 'wish', 'you', 'a', 'happy', 'new', 'year', 'in', 'the', 'hope', 'that', 'you', 'enjoyed', 'a', 'pleasant', 'festive', 'period.'], ['although,', 'as', 'you', 'will', 'have', 'seen,', 'the', 'dreaded', \"'millennium\", \"bug'\", 'failed', 'to', 'materialise,', 'still', 'the', 'people', 'in', 'a', 'number', 'of', 'countries', 'suffered', 'a', 'series', 'of', 'natural', 'disasters', 'that', 'truly', 'were', 'dreadful.'], ['you', 'have', 'requested', 'a', 'debate', 'on', 'this', 'subject', 'in', 'the', 'course', 'of', 'the', 'next', 'few', 'days,', 'during', 'this', 'part-session.'], ['in', 'the', 'meantime,', 'i', 'should', 'like', 'to', 'observe', 'a', \"minute'\", 's', 'silence,', 'as', 'a', 'number', 'of', 'members', 'have', 'requested,', 'on', 'behalf', 'of', 'all', 'the', 'victims', 'concerned,', 'particularly', 'those', 'of', 'the', 'terrible', 'storms,', 'in', 'the', 'various', 'countries', 'of', 'the', 'european', 'union.']]\n",
      "1862234\n",
      "[['återupptagande', 'av', 'sessionen'], ['jag', 'förklarar', 'europaparlamentets', 'session', 'återupptagen', 'efter', 'avbrottet', 'den', '17', 'december.', 'jag', 'vill', 'på', 'nytt', 'önska', 'er', 'ett', 'gott', 'nytt', 'år', 'och', 'jag', 'hoppas', 'att', 'ni', 'haft', 'en', 'trevlig', 'semester.'], ['som', 'ni', 'kunnat', 'konstatera', 'ägde', '\"den', 'stora', 'år', '2000-buggen\"', 'aldrig', 'rum.', 'däremot', 'har', 'invånarna', 'i', 'ett', 'antal', 'av', 'våra', 'medlemsländer', 'drabbats', 'av', 'naturkatastrofer', 'som', 'verkligen', 'varit', 'förskräckliga.'], ['ni', 'har', 'begärt', 'en', 'debatt', 'i', 'ämnet', 'under', 'sammanträdesperiodens', 'kommande', 'dagar.'], ['till', 'dess', 'vill', 'jag', 'att', 'vi,', 'som', 'ett', 'antal', 'kolleger', 'begärt,', 'håller', 'en', 'tyst', 'minut', 'för', 'offren', 'för', 'bl.a.', 'stormarna', 'i', 'de', 'länder', 'i', 'europeiska', 'unionen', 'som', 'drabbats.']]\n",
      "1862234\n"
     ]
    }
   ],
   "source": [
    " #part 2\n",
    "def lower_split(text):\n",
    "        text = text.map(lambda text: text.lower())\n",
    "        text = text.map(lambda text: text.split(' '))\n",
    "        return(text)\n",
    "    \n",
    "preprocessed_eng = lower_split(lines_eng)\n",
    "print(preprocessed_eng.take(5))\n",
    "print(preprocessed_eng.count())\n",
    "\n",
    "preprocessed_swe = lower_split(lines_swe)\n",
    "print(preprocessed_swe.take(5))\n",
    "print(preprocessed_swe.count())\n"
   ]
  },
  {
   "cell_type": "code",
   "execution_count": 5,
   "metadata": {},
   "outputs": [
    {
     "name": "stdout",
     "output_type": "stream",
     "text": [
      "10 most common english words:  [('the', 3498375), ('of', 1659758), ('to', 1539760), ('and', 1288401), ('in', 1085993), ('that', 797516), ('a', 773522), ('is', 758050), ('for', 534242), ('we', 522849)] \n",
      "\n",
      "10 most common swedish words:  [('att', 1706293), ('och', 1344830), ('i', 1050774), ('det', 924866), ('som', 913276), ('för', 908680), ('av', 738068), ('är', 694381), ('en', 620310), ('vi', 539797)]\n"
     ]
    }
   ],
   "source": [
    "#part 3\n",
    "from operator import add\n",
    "\n",
    "map_eng = preprocessed_eng.flatMap(lambda x: x).map(lambda x: (x,1))\n",
    "map_swe = preprocessed_swe.flatMap(lambda x: x).map(lambda x: (x,1))\n",
    "\n",
    "count_en = map_eng.reduceByKey(add)\n",
    "count_sv = map_swe.reduceByKey(add)\n",
    "\n",
    "sorted_en = count_en.sortBy(lambda x: -x[1])\n",
    "sorted_sv = count_sv.sortBy(lambda x: -x[1])\n",
    "\n",
    "print(\"10 most common english words: \",sorted_en.take(10),\"\\n\\n10 most common swedish words: \",sorted_sv.take(10))"
   ]
  },
  {
   "cell_type": "code",
   "execution_count": 6,
   "metadata": {},
   "outputs": [
    {
     "name": "stdout",
     "output_type": "stream",
     "text": [
      "Nr of rows:  1848423\n"
     ]
    }
   ],
   "source": [
    "# part 4 (1-4) - zips the english and swedish together, changes places of keys and values, removes empty rows. \n",
    "\n",
    "rdds_zipped = preprocessed_eng.zipWithIndex()\\\n",
    ".map(lambda x: (x[1],x[0]))\\\n",
    ".join(preprocessed_swe.zipWithIndex()\\\n",
    "     .map(lambda x: (x[1],x[0])))\n",
    "\n",
    "rdds_zipped_nonempty = rdds_zipped.filter(lambda x: (x[1][0]!=[''] and x[1][1]!=['']))\n",
    "print(\"Nr of rows: \",rdds_zipped_nonempty.count())"
   ]
  },
  {
   "cell_type": "code",
   "execution_count": 8,
   "metadata": {},
   "outputs": [
    {
     "name": "stdout",
     "output_type": "stream",
     "text": [
      "Nr of rows:  90219\n"
     ]
    }
   ],
   "source": [
    "# part 5, Keeping only sentences with a specific length. \n",
    "\n",
    "shorter_sentences = rdds_zipped_nonempty.filter(lambda x: (len(x[1][0]) < 7 and len(x[1][1]) < 7))\n",
    "print(\"Nr of rows: \",shorter_sentences.count())"
   ]
  },
  {
   "cell_type": "code",
   "execution_count": 10,
   "metadata": {},
   "outputs": [
    {
     "name": "stdout",
     "output_type": "stream",
     "text": [
      "Nr of rows:  44531\n"
     ]
    }
   ],
   "source": [
    "# part 6, keeping only senteces with the same length. \n",
    "\n",
    "same_sentence_length = shorter_sentences.filter(lambda x: (len(x[1][0])==len(x[1][1])))\n",
    "print(\"Nr of rows: \",same_sentence_length.count())\n"
   ]
  },
  {
   "cell_type": "code",
   "execution_count": 11,
   "metadata": {
    "scrolled": true
   },
   "outputs": [
    {
     "name": "stdout",
     "output_type": "stream",
     "text": [
      "[{('9.', '9.')}, {('no', 'nr'), ('35', '35'), ('(h-0778/99):', '(h-0778/99):'), ('question', 'fråga'), ('by', 'från')}, {('transparency', 'öppenheten'), ('is', 'är'), ('such', 'sådan'), ('one', 'en'), ('issue.', 'fråga.')}, {('would', 'rekommenderar'), ('i', 'jag'), ('recommend...', '...')}, {('orders,', 'order,'), ('europe', 'europa'), (\"pays!'\", 'betalar!”'), ('we', 'vi'), ('give', 'ger')}, {('much,', 'herr'), ('thank', 'tack'), ('very', 'mycket,'), ('you', 'så'), ('commissioner.', 'kommissionär.')}, {('(continuation)', '(fortsättning)'), ('vote', 'omröstning')}, {('way.', 'sätt.'), ('better', 'bättre'), ('is', 'finns'), ('there', 'det'), ('a', 'ett')}, {('women.', 'kvinnor.'), ('of', 'av'), ('are', 'är'), ('half', 'hälften'), ('these', 'dessa')}, {('i', 'jag'), ('these', 'dessa'), ('proposals.', 'förslag.'), ('support', 'stöder')}]\n"
     ]
    }
   ],
   "source": [
    "# part 7, mapping words at the same spot. \n",
    "\n",
    "word_pairs_translated = same_sentence_length.map(lambda x: set(zip(x[1][0],x[1][1])))\n",
    "print(word_pairs_translated.take(10))"
   ]
  },
  {
   "cell_type": "code",
   "execution_count": 14,
   "metadata": {},
   "outputs": [
    {
     "name": "stdout",
     "output_type": "stream",
     "text": [
      "The most frequently occuring words and their count:  [(('is', 'är'), 6239), (('closed.', 'avslutad.'), 2958), (('(applause)', '(applåder)'), 2546), (('we', 'vi'), 2366), (('.', '.'), 2107), (('i', 'jag'), 1887), (('that', 'det'), 1881), (('this', 'detta'), 1618), (('it', 'det'), 1477), (('\\xa0\\xa0', '\\xa0\\xa0'), 1353)]\n"
     ]
    }
   ],
   "source": [
    "# part 8 & 9, number of occurece of the word-translation pairs. \n",
    "\n",
    "common_translation_pairs = word_pairs_translated.flatMap(lambda x: x)\\\n",
    ".map(lambda w: (w,1))\\\n",
    ".reduceByKey(add)\\\n",
    ".sortBy(lambda x: -x[1])\n",
    "\n",
    "print(\"The most frequently occuring words and their count: \",common_translation_pairs.take(10))"
   ]
  },
  {
   "cell_type": "code",
   "execution_count": 15,
   "metadata": {},
   "outputs": [],
   "source": [
    "# release the cores for another application!\n",
    "spark_context.stop()"
   ]
  },
  {
   "cell_type": "code",
   "execution_count": null,
   "metadata": {},
   "outputs": [],
   "source": []
  }
 ],
 "metadata": {
  "kernelspec": {
   "display_name": "Python 3",
   "language": "python",
   "name": "python3"
  },
  "language_info": {
   "codemirror_mode": {
    "name": "ipython",
    "version": 3
   },
   "file_extension": ".py",
   "mimetype": "text/x-python",
   "name": "python",
   "nbconvert_exporter": "python",
   "pygments_lexer": "ipython3",
   "version": "3.6.7"
  }
 },
 "nbformat": 4,
 "nbformat_minor": 2
}
