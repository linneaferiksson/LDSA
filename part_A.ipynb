{
 "cells": [
  {
   "cell_type": "code",
   "execution_count": 1,
   "metadata": {},
   "outputs": [],
   "source": [
    "from pyspark.sql import SparkSession\n",
    "\n",
    "# (8 cores, 16gb per machine) x 5 = 40 cores\n",
    "\n",
    "# New API\n",
    "spark_session = SparkSession\\\n",
    "        .builder\\\n",
    "        .master(\"spark://192.168.1.153:7077\") \\\n",
    "        .appName(\"erik_partA\")\\\n",
    "        .config(\"spark.dynamicAllocation.enabled\", True)\\\n",
    "        .config(\"spark.shuffle.service.enabled\", True)\\\n",
    "        .config(\"spark.dynamicAllocation.executorIdleTimeout\",\"30s\")\\\n",
    "        .config(\"spark.executor.cores\",4)\\\n",
    "        .getOrCreate()\n",
    "\n",
    "spark_context = spark_session.sparkContext"
   ]
  },
  {
   "cell_type": "code",
   "execution_count": 2,
   "metadata": {},
   "outputs": [
    {
     "name": "stdout",
     "output_type": "stream",
     "text": [
      "Number of lines for english, sve-eng:  1862234\n",
      "Number of lines for swedish, sve-eng:  1862234\n",
      "The number of rows are the same!\n",
      "The number of partitions for the english language 2\n",
      "The number of partitions for the swedish language 3\n"
     ]
    }
   ],
   "source": [
    "# A1\n",
    "spark_context.setLogLevel(\"DEBUG\")\n",
    "\n",
    "lines_english = spark_context.textFile(\"hdfs://192.168.1.153:9000/europarl/europarl-v7.sv-en.en\")\n",
    "lines_swedish = spark_context.textFile(\"hdfs://192.168.1.153:9000/europarl/europarl-v7.sv-en.sv\")\n",
    "\n",
    "number_of_english_rows = lines_english.count()\n",
    "number_of_swedish_rows = lines_swedish.count()\n",
    "\n",
    "print(\"Number of lines for english, sve-eng: \",number_of_english_rows)\n",
    "print(\"Number of lines for swedish, sve-eng: \",number_of_swedish_rows)\n",
    "\n",
    "if (number_of_english_rows == number_of_swedish_rows):\n",
    "    print(\"The number of rows are the same!\")\n",
    "else:\n",
    "    print(\"The number of rows are NOT the same!\")\n",
    "\n",
    "print(\"The number of partitions for the english language: \",lines_english.getNumPartitions())\n",
    "print(\"The number of partitions for the swedish language: \",lines_swedish.getNumPartitions())\n"
   ]
  },
  {
   "cell_type": "code",
   "execution_count": 3,
   "metadata": {},
   "outputs": [
    {
     "name": "stdout",
     "output_type": "stream",
     "text": [
      "['resumption of the session', 'i declare resumed the session of the european parliament adjourned on friday 17 december 1999, and i would like once again to wish you a happy new year in the hope that you enjoyed a pleasant festive period.', \"although, as you will have seen, the dreaded 'millennium bug' failed to materialise, still the people in a number of countries suffered a series of natural disasters that truly were dreadful.\", 'you have requested a debate on this subject in the course of the next few days, during this part-session.', \"in the meantime, i should like to observe a minute' s silence, as a number of members have requested, on behalf of all the victims concerned, particularly those of the terrible storms, in the various countries of the european union.\", \"please rise, then, for this minute' s silence.\", \"(the house rose and observed a minute' s silence)\", 'madam president, on a point of order.', 'you will be aware from the press and television that there have been a number of bomb explosions and killings in sri lanka.', 'one of the people assassinated very recently in sri lanka was mr kumar ponnambalam, who had visited the european parliament just a few months ago.']\n",
      "[['resumption', 'of', 'the', 'session'], ['i', 'declare', 'resumed', 'the', 'session', 'of', 'the', 'european', 'parliament', 'adjourned', 'on', 'friday', '17', 'december', '1999,', 'and', 'i', 'would', 'like', 'once', 'again', 'to', 'wish', 'you', 'a', 'happy', 'new', 'year', 'in', 'the', 'hope', 'that', 'you', 'enjoyed', 'a', 'pleasant', 'festive', 'period.'], ['although,', 'as', 'you', 'will', 'have', 'seen,', 'the', 'dreaded', \"'millennium\", \"bug'\", 'failed', 'to', 'materialise,', 'still', 'the', 'people', 'in', 'a', 'number', 'of', 'countries', 'suffered', 'a', 'series', 'of', 'natural', 'disasters', 'that', 'truly', 'were', 'dreadful.'], ['you', 'have', 'requested', 'a', 'debate', 'on', 'this', 'subject', 'in', 'the', 'course', 'of', 'the', 'next', 'few', 'days,', 'during', 'this', 'part-session.'], ['in', 'the', 'meantime,', 'i', 'should', 'like', 'to', 'observe', 'a', \"minute'\", 's', 'silence,', 'as', 'a', 'number', 'of', 'members', 'have', 'requested,', 'on', 'behalf', 'of', 'all', 'the', 'victims', 'concerned,', 'particularly', 'those', 'of', 'the', 'terrible', 'storms,', 'in', 'the', 'various', 'countries', 'of', 'the', 'european', 'union.'], ['please', 'rise,', 'then,', 'for', 'this', \"minute'\", 's', 'silence.'], ['(the', 'house', 'rose', 'and', 'observed', 'a', \"minute'\", 's', 'silence)'], ['madam', 'president,', 'on', 'a', 'point', 'of', 'order.'], ['you', 'will', 'be', 'aware', 'from', 'the', 'press', 'and', 'television', 'that', 'there', 'have', 'been', 'a', 'number', 'of', 'bomb', 'explosions', 'and', 'killings', 'in', 'sri', 'lanka.'], ['one', 'of', 'the', 'people', 'assassinated', 'very', 'recently', 'in', 'sri', 'lanka', 'was', 'mr', 'kumar', 'ponnambalam,', 'who', 'had', 'visited', 'the', 'european', 'parliament', 'just', 'a', 'few', 'months', 'ago.']]\n",
      "The number of rows are still the same!\n"
     ]
    }
   ],
   "source": [
    "# A2\n",
    "def remove_uppercase(line):\n",
    "    return line.lower()\n",
    "\n",
    "def split_line(line):\n",
    "    return line.split(' ')\n",
    "\n",
    "# Making the lines lowercase.\n",
    "\n",
    "lines_english_lowercase = lines_english.map(remove_uppercase)\n",
    "lines_swedish_lowercase = lines_swedish.map(remove_uppercase)\n",
    "\n",
    "# Tokenizing the text.\n",
    "\n",
    "lines_eng_lower_token = lines_english_lowercase.map(split_line)\n",
    "lines_swe_lower_token = lines_swedish_lowercase.map(split_line)\n",
    "\n",
    "# Prining the 10 first entries. \n",
    "\n",
    "print(lines_english_lowercase.take(10))\n",
    "print(lines_eng_lower_token.take(10))\n",
    "\n",
    "# Verification that the line counts still match. \n",
    "\n",
    "nmbr_eng_rows_post_process = lines_eng_lower_token.count()\n",
    "nmbr_swe_rows_post_process = lines_swe_lower_token.count()\n",
    "\n",
    "if (nmbr_eng_rows_post_process == nmbr_swe_rows_post_process == number_of_english_rows):\n",
    "    print(\"The number of rows are still the same!\")\n",
    "else: \n",
    "    print(\"The number of rows are NOT still the same!\")\n",
    "\n"
   ]
  },
  {
   "cell_type": "code",
   "execution_count": 4,
   "metadata": {},
   "outputs": [
    {
     "name": "stdout",
     "output_type": "stream",
     "text": [
      "[('the', 3498375), ('of', 1659758), ('to', 1539760), ('and', 1288401), ('in', 1085993), ('that', 797516), ('a', 773522), ('is', 758050), ('for', 534242), ('we', 522849)]\n"
     ]
    }
   ],
   "source": [
    "# A3 - Counting the 10 most common words from the English language. \n",
    "\n",
    "from operator import add\n",
    "\n",
    "most_common_english = lines_eng_lower_token.flatMap(lambda x: x) \\\n",
    ".map(lambda w: (w,1))\\\n",
    ".reduceByKey(add)\\\n",
    ".sortBy(lambda x: -x[1])\n",
    "\n",
    "print(most_common_english.take(10))\n",
    "\n",
    "# This result seems resonable because the words are common stop words. "
   ]
  },
  {
   "cell_type": "code",
   "execution_count": 5,
   "metadata": {},
   "outputs": [
    {
     "name": "stdout",
     "output_type": "stream",
     "text": [
      "[('att', 1706293), ('och', 1344830), ('i', 1050774), ('det', 924866), ('som', 913276), ('för', 908680), ('av', 738068), ('är', 694381), ('en', 620310), ('vi', 539797)]\n"
     ]
    }
   ],
   "source": [
    "# A3 - counting the 10 most common words from the Swedish language. \n",
    "\n",
    "most_common_swedish = lines_swe_lower_token.flatMap(lambda x: x) \\\n",
    ".map(lambda w: (w,1))\\\n",
    ".reduceByKey(add)\\\n",
    ".sortBy(lambda x: -x[1])\n",
    "\n",
    "print(most_common_swedish.take(10))\n",
    "\n",
    "# This result also seems resonable for the same reason as above.  "
   ]
  },
  {
   "cell_type": "code",
   "execution_count": 6,
   "metadata": {},
   "outputs": [
    {
     "name": "stdout",
     "output_type": "stream",
     "text": [
      "The number of rows after removing empty rows:  1848423\n"
     ]
    }
   ],
   "source": [
    "# A4 (1-4) - This first section of the code zips the english and swedish\n",
    "# together, changes place of the key and value and removes the rows that are empty. \n",
    "\n",
    "zipped_rdd = lines_eng_lower_token.zipWithIndex()\\\n",
    ".map(lambda x: (x[1],x[0]))\\\n",
    ".join(lines_swe_lower_token.zipWithIndex()\\\n",
    "     .map(lambda x: (x[1],x[0])))\n",
    "\n",
    "zipped_nonempty_rdd = zipped_rdd.filter(lambda x: (x[1][0]!=[''] and x[1][1]!=['']))\n",
    "print(\"The number of rows after removing empty rows: \",zipped_nonempty_rdd.count())\n"
   ]
  },
  {
   "cell_type": "code",
   "execution_count": 7,
   "metadata": {},
   "outputs": [
    {
     "name": "stdout",
     "output_type": "stream",
     "text": [
      "Number of rows left:  90219\n"
     ]
    }
   ],
   "source": [
    "# part 5, Keeping only sentences with a specific length. \n",
    "\n",
    "shorter_sentences = zipped_nonempty_rdd.filter(lambda x: (len(x[1][0]) < 7 and len(x[1][1]) < 7))\n",
    "print(\"Number of rows left: \",shorter_sentences.count())"
   ]
  },
  {
   "cell_type": "code",
   "execution_count": 8,
   "metadata": {},
   "outputs": [
    {
     "name": "stdout",
     "output_type": "stream",
     "text": [
      "Number of rows left after filtering to only keep those with the same length:  44531\n"
     ]
    }
   ],
   "source": [
    "# part 6, keeping only senteces with the same length. \n",
    "\n",
    "equal_sentence_length = shorter_sentences.filter(lambda x: (len(x[1][0])==len(x[1][1])))\n",
    "print(\"Number of rows left after filtering to only keep those with the same length: \",equal_sentence_length.count())\n"
   ]
  },
  {
   "cell_type": "code",
   "execution_count": 9,
   "metadata": {},
   "outputs": [
    {
     "name": "stdout",
     "output_type": "stream",
     "text": [
      "[{('i', 'varje'), ('every', 'där'), ('used', 'ord'), ('was', 'nu'), ('important.', 'viktigt.'), ('word', 'är')}, {('small', 'låg'), ('it', 'det'), ('relatively', 'relativt'), ('percentage.', 'procentsats.'), ('a', 'en'), ('is', 'är')}, {('.', '.')}, {('bangladesh', 'bangladesh')}, {('.', '.')}, {('enthusiasm.', 'entusiasm.'), ('involvement,', 'engagemang,'), ('they', 'de'), ('have', 'har')}, {('.', '.')}, {('2.', '2.')}, {('commission', 'att'), ('will', 'kommer'), ('what', 'vilken'), ('the', 'kommissionen'), ('role', 'roll'), ('play?', 'spela?')}, {('i', 'jag'), ('think', 'tror'), ('absolutely', 'helt'), ('are', 'har'), ('right.', 'rätt.'), ('you', 'ni')}]\n"
     ]
    }
   ],
   "source": [
    "# part 7, mapping words that occur at the same spot in the two languages. \n",
    "\n",
    "translated_word_pairs = equal_sentence_length.map(lambda x: set(zip(x[1][0],x[1][1])))\n",
    "print(translated_word_pairs.take(10))"
   ]
  },
  {
   "cell_type": "code",
   "execution_count": 10,
   "metadata": {},
   "outputs": [
    {
     "name": "stdout",
     "output_type": "stream",
     "text": [
      "The most frequently occuring words and their count:  [(('is', 'är'), 6239), (('closed.', 'avslutad.'), 2958), (('(applause)', '(applåder)'), 2546), (('we', 'vi'), 2366), (('.', '.'), 2107), (('i', 'jag'), 1887), (('that', 'det'), 1881), (('this', 'detta'), 1618), (('it', 'det'), 1477), (('\\xa0\\xa0', '\\xa0\\xa0'), 1353)]\n"
     ]
    }
   ],
   "source": [
    "# part 8-9, number of occurece of the word-translation pairs. \n",
    "\n",
    "most_common_translation = translated_word_pairs.flatMap(lambda x: x)\\\n",
    ".map(lambda w: (w,1))\\\n",
    ".reduceByKey(add)\\\n",
    ".sortBy(lambda x: -x[1])\n",
    "\n",
    "print(\"The most frequently occuring words and their count: \",most_common_translation.take(10))"
   ]
  },
  {
   "cell_type": "code",
   "execution_count": 11,
   "metadata": {},
   "outputs": [],
   "source": [
    "spark_context.stop()"
   ]
  },
  {
   "cell_type": "code",
   "execution_count": null,
   "metadata": {},
   "outputs": [],
   "source": []
  }
 ],
 "metadata": {
  "kernelspec": {
   "display_name": "Python 3",
   "language": "python",
   "name": "python3"
  },
  "language_info": {
   "codemirror_mode": {
    "name": "ipython",
    "version": 3
   },
   "file_extension": ".py",
   "mimetype": "text/x-python",
   "name": "python",
   "nbconvert_exporter": "python",
   "pygments_lexer": "ipython3",
   "version": "3.6.5"
  }
 },
 "nbformat": 4,
 "nbformat_minor": 2
}
