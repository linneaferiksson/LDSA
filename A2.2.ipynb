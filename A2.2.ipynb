{
 "cells": [
  {
   "cell_type": "code",
   "execution_count": null,
   "metadata": {},
   "outputs": [],
   "source": [
    "from operator import add\n",
    "import re\n",
    "from collections import OrderedDict\n",
    "from operator import itemgetter \n",
    "import itertools\n",
    "from pyspark.sql import SparkSession\n",
    "from pyspark.sql.functions import udf\n",
    "from pyspark.sql.types import StringType\n",
    "\n",
    "# (8 cores, 16gb per machine) x 5 = 40 cores\n",
    "\n",
    "# New API\n",
    "spark_session = SparkSession\\\n",
    "        .builder\\\n",
    "        .master(\"spark://192.168.1.153:7077\") \\\n",
    "        .appName(\"linneaeriksson_A2.2\")\\\n",
    "        .config(\"spark.dynamicAllocation.enabled\", True)\\\n",
    "        .config(\"spark.shuffle.service.enabled\", True)\\\n",
    "        .config(\"spark.dynamicAllocation.executorIdleTimeout\",\"30s\")\\\n",
    "        .config(\"spark.executor.cores\",4)\\\n",
    "        .getOrCreate()\n",
    "\n",
    "# Old API (RDD)\n",
    "spark_context = spark_session.sparkContext\n",
    "spark_context.setLogLevel(\"DEBUG\")"
   ]
  },
  {
   "cell_type": "code",
   "execution_count": null,
   "metadata": {},
   "outputs": [],
   "source": [
    "# B1\n",
    "citations = spark_session.read\\\n",
    ".option(\"header\", \"true\")\\\n",
    ".csv(\"hdfs://192.168.1.153:9000/parking-citations.csv\")\\\n",
    ".cache()\n",
    "citations.show()"
   ]
  },
  {
   "cell_type": "code",
   "execution_count": null,
   "metadata": {},
   "outputs": [],
   "source": [
    "# B2\n",
    "citations.printSchema()"
   ]
  },
  {
   "cell_type": "code",
   "execution_count": null,
   "metadata": {},
   "outputs": [],
   "source": [
    "# B3\n",
    "print(\"Total number of rows in CSV: \" + str(citations.count()))"
   ]
  },
  {
   "cell_type": "code",
   "execution_count": null,
   "metadata": {},
   "outputs": [],
   "source": [
    "# B4\n",
    "print(\"Total number of partitions in RDD: \" + str(citations.rdd.getNumPartitions()))"
   ]
  },
  {
   "cell_type": "code",
   "execution_count": null,
   "metadata": {},
   "outputs": [],
   "source": [
    "# B5\n",
    "citations_dropped = citations.drop(\"VIN\", \"Latitude\", \"Longitude\")\n",
    "citations_dropped.printSchema()"
   ]
  },
  {
   "cell_type": "code",
   "execution_count": null,
   "metadata": {},
   "outputs": [],
   "source": [
    "# B6\n",
    "citations_fine_amount_conv2float = citations_dropped.withColumn(\"Fine_amount_float\", citations_dropped['Fine amount'].cast(\"float\")).na.fill(0)\n",
    "citations_fine_view = citations_fine_amount_conv2float.createOrReplaceTempView(\"citations_fine\")\n",
    "\n",
    "spark_session.sql(\"SELECT Fine_amount_float, count(Fine_amount_float) as Number_of_Fines \" + \\\n",
    "                          \"FROM citations_fine \" + \\\n",
    "                          \"GROUP BY Fine_amount_float \" + \\\n",
    "                          \"ORDER BY Fine_amount_float DESC\").show()"
   ]
  },
  {
   "cell_type": "code",
   "execution_count": null,
   "metadata": {},
   "outputs": [],
   "source": [
    "# B7\n",
    "spark_session.sql(\"SELECT Make, count(Make) AS Nr_of_Vehicles, count(Make)/(SELECT count(*) FROM citations_fine) as FREQ \" + \\\n",
    "                          \"FROM citations_fine \" + \\\n",
    "                          \"GROUP BY Make \" + \\\n",
    "                          \"ORDER BY FREQ DESC\").show()"
   ]
  },
  {
   "cell_type": "code",
   "execution_count": null,
   "metadata": {},
   "outputs": [],
   "source": [
    "# B8\n",
    "def expand_color_abbr(col):\n",
    "    COLORS = {\n",
    "'AL':'Aluminum', 'AM':'Amber', 'BG':'Beige', 'BK':'Black',\n",
    "'BL':'Blue', 'BN':'Brown', 'BR':'Brown', 'BZ':'Bronze',\n",
    "'CH':'Charcoal', 'DK':'Dark', 'GD':'Gold', 'GO':'Gold',\n",
    "'GN':'Green', 'GY':'Gray', 'GT':'Granite', 'IV':'Ivory',\n",
    "'LT':'Light', 'OL':'Olive', 'OR':'Orange', 'MR':'Maroon',\n",
    "'PK':'Pink', 'RD':'Red', 'RE':'Red', 'SI':'Silver', 'SL':'Silver',\n",
    "'SM':'Smoke', 'TN':'Tan', 'VT':'Violet', 'WT':'White',\n",
    "'WH':'White', 'YL':'Yellow', 'YE':'Yellow', 'UN':'Unknown'\n",
    "}\n",
    "    if col in COLORS:\n",
    "        return COLORS[col]\n",
    "    else:\n",
    "        return col\n",
    "\n",
    "udf_expand_color_abbr = udf(expand_color_abbr, StringType())\n",
    "color_long = citations_fine_amount_float.withColumn(\"Color_Long\", udf_expand_color_abbr(\"Color\"))\n"
   ]
  },
  {
   "cell_type": "code",
   "execution_count": null,
   "metadata": {},
   "outputs": [],
   "source": [
    "# B9\n",
    "color_long_view = color_long.createOrReplaceTempView(\"citations_color\")\n",
    "toyota_color = spark_session.sql(\"SELECT Color_Long, count(Color_Long) AS Nr_of_Toyotas \" + \\\n",
    "                                  \"FROM citations_color \" + \\\n",
    "                                  \"WHERE Make='TOYT' \" + \\\n",
    "                                  \"GROUP BY Color_Long \" + \\\n",
    "                                  \"ORDER BY count(Color_Long) DESC\").show()"
   ]
  },
  {
   "cell_type": "code",
   "execution_count": null,
   "metadata": {},
   "outputs": [],
   "source": [
    "spark_context.stop()"
   ]
  }
 ],
 "metadata": {
  "kernelspec": {
   "display_name": "Python 3",
   "language": "python",
   "name": "python3"
  },
  "language_info": {
   "codemirror_mode": {
    "name": "ipython",
    "version": 3
   },
   "file_extension": ".py",
   "mimetype": "text/x-python",
   "name": "python",
   "nbconvert_exporter": "python",
   "pygments_lexer": "ipython3",
   "version": "3.6.7"
  }
 },
 "nbformat": 4,
 "nbformat_minor": 2
}
