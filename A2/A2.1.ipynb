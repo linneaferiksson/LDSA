{
 "cells": [
  {
   "cell_type": "code",
   "execution_count": 1,
   "metadata": {},
   "outputs": [],
   "source": [
    "from pyspark.sql import SparkSession\n",
    "\n",
    "# (8 cores, 16gb per machine) x 5 = 40 cores\n",
    "\n",
    "# New API\n",
    "spark_session = SparkSession\\\n",
    "        .builder\\\n",
    "        .master(\"spark://192.168.1.153:7077\") \\\n",
    "        .appName(\"linneaeriksson_A2.1\")\\\n",
    "        .config(\"spark.dynamicAllocation.enabled\", True)\\\n",
    "        .config(\"spark.shuffle.service.enabled\", True)\\\n",
    "        .config(\"spark.dynamicAllocation.executorIdleTimeout\",\"30s\")\\\n",
    "        .config(\"spark.executor.cores\",4)\\\n",
    "        .getOrCreate()\n",
    "\n",
    "# Old API (RDD)\n",
    "spark_context = spark_session.sparkContext"
   ]
  },
  {
   "cell_type": "code",
   "execution_count": 2,
   "metadata": {},
   "outputs": [
    {
     "name": "stdout",
     "output_type": "stream",
     "text": [
      "1862234\n",
      "2\n",
      "['Resumption of the session', 'I declare resumed the session of the European Parliament adjourned on Friday 17 December 1999, and I would like once again to wish you a happy new year in the hope that you enjoyed a pleasant festive period.', \"Although, as you will have seen, the dreaded 'millennium bug' failed to materialise, still the people in a number of countries suffered a series of natural disasters that truly were dreadful.\", 'You have requested a debate on this subject in the course of the next few days, during this part-session.', \"In the meantime, I should like to observe a minute' s silence, as a number of Members have requested, on behalf of all the victims concerned, particularly those of the terrible storms, in the various countries of the European Union.\", \"Please rise, then, for this minute' s silence.\", \"(The House rose and observed a minute' s silence)\", 'Madam President, on a point of order.', 'You will be aware from the press and television that there have been a number of bomb explosions and killings in Sri Lanka.', 'One of the people assassinated very recently in Sri Lanka was Mr Kumar Ponnambalam, who had visited the European Parliament just a few months ago.']\n",
      "1862234\n",
      "3\n",
      "['Återupptagande av sessionen', 'Jag förklarar Europaparlamentets session återupptagen efter avbrottet den 17 december. Jag vill på nytt önska er ett gott nytt år och jag hoppas att ni haft en trevlig semester.', 'Som ni kunnat konstatera ägde \"den stora år 2000-buggen\" aldrig rum. Däremot har invånarna i ett antal av våra medlemsländer drabbats av naturkatastrofer som verkligen varit förskräckliga.', 'Ni har begärt en debatt i ämnet under sammanträdesperiodens kommande dagar.', 'Till dess vill jag att vi, som ett antal kolleger begärt, håller en tyst minut för offren för bl.a. stormarna i de länder i Europeiska unionen som drabbats.', 'Jag ber er resa er för en tyst minut.', '(Parlamentet höll en tyst minut.)', 'Fru talman! Det gäller en ordningsfråga.', 'Ni känner till från media att det skett en rad bombexplosioner och mord i Sri Lanka.', 'En av de personer som mycket nyligen mördades i Sri Lanka var Kumar Ponnambalam, som besökte Europaparlamentet för bara några månader sedan.']\n"
     ]
    }
   ],
   "source": [
    "#A1\n",
    "lines_eng = spark_context.textFile(\"hdfs://192.168.1.153:9000/europarl/europarl-v7.sv-en.en\")\n",
    "print(lines_eng.count())\n",
    "print(lines_eng.getNumPartitions())\n",
    "print(lines_eng.take(10))\n",
    "                                                                   \n",
    "     \n",
    "lines_swe = spark_context.textFile(\"hdfs://192.168.1.153:9000/europarl/europarl-v7.sv-en.sv\")                                   \n",
    "print(lines_swe.count())\n",
    "print(lines_swe.getNumPartitions())\n",
    "print(lines_swe.take(10))"
   ]
  },
  {
   "cell_type": "code",
   "execution_count": 3,
   "metadata": {},
   "outputs": [
    {
     "name": "stdout",
     "output_type": "stream",
     "text": [
      "[['resumption', 'of', 'the', 'session'], ['i', 'declare', 'resumed', 'the', 'session', 'of', 'the', 'european', 'parliament', 'adjourned', 'on', 'friday', '17', 'december', '1999,', 'and', 'i', 'would', 'like', 'once', 'again', 'to', 'wish', 'you', 'a', 'happy', 'new', 'year', 'in', 'the', 'hope', 'that', 'you', 'enjoyed', 'a', 'pleasant', 'festive', 'period.'], ['although,', 'as', 'you', 'will', 'have', 'seen,', 'the', 'dreaded', \"'millennium\", \"bug'\", 'failed', 'to', 'materialise,', 'still', 'the', 'people', 'in', 'a', 'number', 'of', 'countries', 'suffered', 'a', 'series', 'of', 'natural', 'disasters', 'that', 'truly', 'were', 'dreadful.'], ['you', 'have', 'requested', 'a', 'debate', 'on', 'this', 'subject', 'in', 'the', 'course', 'of', 'the', 'next', 'few', 'days,', 'during', 'this', 'part-session.'], ['in', 'the', 'meantime,', 'i', 'should', 'like', 'to', 'observe', 'a', \"minute'\", 's', 'silence,', 'as', 'a', 'number', 'of', 'members', 'have', 'requested,', 'on', 'behalf', 'of', 'all', 'the', 'victims', 'concerned,', 'particularly', 'those', 'of', 'the', 'terrible', 'storms,', 'in', 'the', 'various', 'countries', 'of', 'the', 'european', 'union.'], ['please', 'rise,', 'then,', 'for', 'this', \"minute'\", 's', 'silence.'], ['(the', 'house', 'rose', 'and', 'observed', 'a', \"minute'\", 's', 'silence)'], ['madam', 'president,', 'on', 'a', 'point', 'of', 'order.'], ['you', 'will', 'be', 'aware', 'from', 'the', 'press', 'and', 'television', 'that', 'there', 'have', 'been', 'a', 'number', 'of', 'bomb', 'explosions', 'and', 'killings', 'in', 'sri', 'lanka.'], ['one', 'of', 'the', 'people', 'assassinated', 'very', 'recently', 'in', 'sri', 'lanka', 'was', 'mr', 'kumar', 'ponnambalam,', 'who', 'had', 'visited', 'the', 'european', 'parliament', 'just', 'a', 'few', 'months', 'ago.']]\n",
      "1862234\n",
      "[['återupptagande', 'av', 'sessionen'], ['jag', 'förklarar', 'europaparlamentets', 'session', 'återupptagen', 'efter', 'avbrottet', 'den', '17', 'december.', 'jag', 'vill', 'på', 'nytt', 'önska', 'er', 'ett', 'gott', 'nytt', 'år', 'och', 'jag', 'hoppas', 'att', 'ni', 'haft', 'en', 'trevlig', 'semester.'], ['som', 'ni', 'kunnat', 'konstatera', 'ägde', '\"den', 'stora', 'år', '2000-buggen\"', 'aldrig', 'rum.', 'däremot', 'har', 'invånarna', 'i', 'ett', 'antal', 'av', 'våra', 'medlemsländer', 'drabbats', 'av', 'naturkatastrofer', 'som', 'verkligen', 'varit', 'förskräckliga.'], ['ni', 'har', 'begärt', 'en', 'debatt', 'i', 'ämnet', 'under', 'sammanträdesperiodens', 'kommande', 'dagar.'], ['till', 'dess', 'vill', 'jag', 'att', 'vi,', 'som', 'ett', 'antal', 'kolleger', 'begärt,', 'håller', 'en', 'tyst', 'minut', 'för', 'offren', 'för', 'bl.a.', 'stormarna', 'i', 'de', 'länder', 'i', 'europeiska', 'unionen', 'som', 'drabbats.'], ['jag', 'ber', 'er', 'resa', 'er', 'för', 'en', 'tyst', 'minut.'], ['(parlamentet', 'höll', 'en', 'tyst', 'minut.)'], ['fru', 'talman!', 'det', 'gäller', 'en', 'ordningsfråga.'], ['ni', 'känner', 'till', 'från', 'media', 'att', 'det', 'skett', 'en', 'rad', 'bombexplosioner', 'och', 'mord', 'i', 'sri', 'lanka.'], ['en', 'av', 'de', 'personer', 'som', 'mycket', 'nyligen', 'mördades', 'i', 'sri', 'lanka', 'var', 'kumar', 'ponnambalam,', 'som', 'besökte', 'europaparlamentet', 'för', 'bara', 'några', 'månader', 'sedan.']]\n",
      "1862234\n"
     ]
    }
   ],
   "source": [
    " #A2\n",
    "def lower_split(text):\n",
    "        text = text.map(lambda text: text.lower())\n",
    "        text = text.map(lambda text: text.split())\n",
    "        return(text)\n",
    "    \n",
    "preprocessed_eng = lower_split(lines_eng)\n",
    "print(preprocessed_eng.take(10))\n",
    "print(preprocessed_eng.count())\n",
    "\n",
    "preprocessed_swe = lower_split(lines_swe)\n",
    "print(preprocessed_swe.take(10))\n",
    "print(preprocessed_swe.count())\n"
   ]
  },
  {
   "cell_type": "code",
   "execution_count": 4,
   "metadata": {},
   "outputs": [],
   "source": [
    "#A3\n",
    "from operator import add\n",
    "\n",
    "map_eng = preprocessed_eng.flatMap(lambda x: x).map(lambda x: (x,1))\n",
    "map_swe = preprocessed_swe.flatMap(lambda x: x).map(lambda x: (x,1))\n",
    "\n",
    "count_en = map_eng.reduceByKey(add)\n",
    "count_sv = map_swe.reduceByKey(add)\n",
    "\n",
    "sorted_en = count_en.sortBy(lambda x: -x[1])\n",
    "sorted_sv = count_sv.sortBy(lambda x: -x[1])\n",
    "\n"
   ]
  },
  {
   "cell_type": "code",
   "execution_count": 6,
   "metadata": {},
   "outputs": [
    {
     "name": "stdout",
     "output_type": "stream",
     "text": [
      "10 most common english words:  [('the', 3498574), ('of', 1659884), ('to', 1539823), ('and', 1288620), ('in', 1086089), ('that', 797576), ('a', 773812), ('is', 758087), ('for', 534270), ('we', 522879)] \n",
      "\n",
      "10 most common swedish words:  [('att', 1706309), ('och', 1344895), ('i', 1050989), ('det', 924878), ('som', 913302), ('för', 908703), ('av', 738102), ('är', 694389), ('en', 620347), ('vi', 539808)]\n"
     ]
    }
   ],
   "source": [
    "en_1 = sorted_en\n",
    "sv_1 = sorted_sv\n",
    "\n",
    "print(\"10 most common english words: \",sorted_en.take(10),\"\\n\\n10 most common swedish words: \",sorted_sv.take(10))"
   ]
  },
  {
   "cell_type": "code",
   "execution_count": null,
   "metadata": {},
   "outputs": [],
   "source": [
    "#A3\n",
    "#def map_reduce(text):\n",
    "#    text = text.flatMap(lambda line: line.split())\n",
    "#    text = text.map(lambda line: (line, 1)).reduceByKey(lambda a, b: a + b)\n",
    "#    return text\n",
    "\n",
    "\n",
    "#eng_1 = map_reduce(preprocessed_eng)\n",
    "\n",
    "#print(eng_1.takeOrdered(10, key = lambda x: -x[1]))\n",
    "\n",
    "#swe_1 = mapred(preprocessed_swe)\n",
    "#print(swe.takeOrdered(10, key = lambda x: -x[1]))"
   ]
  },
  {
   "cell_type": "code",
   "execution_count": 7,
   "metadata": {},
   "outputs": [],
   "source": [
    "#A4.1 and A4.2\n",
    "en_2 = en_1.zipWithIndex().map(lambda x: (x[1],x[0]))\n",
    "sv_2 = sv_1.zipWithIndex().map(lambda x: (x[1],x[0]))\n",
    "\n"
   ]
  },
  {
   "cell_type": "code",
   "execution_count": 8,
   "metadata": {},
   "outputs": [
    {
     "name": "stdout",
     "output_type": "stream",
     "text": [
      "(0, (('the', 3498574), ('att', 1706309)))\n"
     ]
    }
   ],
   "source": [
    "#A4.3\n",
    "joined_rdds = en_2.join(sv_2)\n",
    "print(joined_rdds.first())\n"
   ]
  },
  {
   "cell_type": "code",
   "execution_count": 13,
   "metadata": {},
   "outputs": [
    {
     "name": "stdout",
     "output_type": "stream",
     "text": [
      "[(0, (('the', 3498574), ('att', 1706309))), (5, (('that', 797576), ('för', 908703))), (10, (('i', 501678), ('de', 513915))), (15, (('are', 337454), ('på', 478223))), (20, (('european', 268758), ('detta', 236637))), (25, (('mr', 178733), ('europeiska', 144474))), (30, (('should', 142827), ('skulle', 124616))), (35, (('all', 131242), ('herr', 118389))), (40, (('president,', 108314), ('sig', 96981))), (45, (('more', 100651), ('andra', 86938)))]\n"
     ]
    }
   ],
   "source": [
    "#A4.4\n",
    "joined_rdds_2 = joined_rdds.filter(lambda x: len(x[1][0]) > 0 and len(x[1][1]) > 0)\n",
    "print(joined_rdds_2.take(10))"
   ]
  },
  {
   "cell_type": "code",
   "execution_count": 2,
   "metadata": {},
   "outputs": [],
   "source": [
    "# release the cores for another application!\n",
    "spark_context.stop()"
   ]
  },
  {
   "cell_type": "code",
   "execution_count": null,
   "metadata": {},
   "outputs": [],
   "source": []
  }
 ],
 "metadata": {
  "kernelspec": {
   "display_name": "Python 3",
   "language": "python",
   "name": "python3"
  },
  "language_info": {
   "codemirror_mode": {
    "name": "ipython",
    "version": 3
   },
   "file_extension": ".py",
   "mimetype": "text/x-python",
   "name": "python",
   "nbconvert_exporter": "python",
   "pygments_lexer": "ipython3",
   "version": "3.6.7"
  }
 },
 "nbformat": 4,
 "nbformat_minor": 2
}
